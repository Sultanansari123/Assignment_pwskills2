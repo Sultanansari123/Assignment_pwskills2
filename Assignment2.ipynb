{
 "cells": [
  {
   "cell_type": "markdown",
   "id": "d8be9956-5d66-4c62-82c2-d1339882ed4e",
   "metadata": {},
   "source": [
    "# Assignment"
   ]
  },
  {
   "cell_type": "markdown",
   "id": "aac5cfa8-55f3-4ea2-a6d1-57f8f0c6f054",
   "metadata": {},
   "source": [
    " Ans1-A database is a structure collection of data that is organised and stored in a way that allows for efficient retrival,management and \n",
    " manupulation of information.\n",
    " -sql and non-sql difference\n",
    " 1-sql\n",
    " ->sql is a structured query language\n",
    " ->It stored data in tabular format\n",
    " ->It provide fix schema\n",
    " ->It provides horizantal and vertical scaling\n",
    " ->sql is follow acid rules\n",
    " 2-Non sql \n",
    " ->non sql is a non structured query language\n",
    " ->It store data in non tabular format\n",
    " ->It provide flexible schema\n",
    " ->It only provide horizantal scaling\n",
    " ->It follow CAP therom\n"
   ]
  },
  {
   "cell_type": "markdown",
   "id": "4fde741d-dfa7-4d50-af61-d54b4c4d47a7",
   "metadata": {},
   "source": [
    "Ans2-\n",
    "DDL mean data definition language is a subset of the sql.used for defining and managing the structure of a relation database.\n",
    "including the creation, deletion and modification of database object such as table,index and constrains.\n",
    "1-Create: Used to create database objects like tables, views, indexes, etc.\n",
    "Example:\n",
    "CREATE TABLE Employees (\n",
    "    EmployeeID INT PRIMARY KEY,\n",
    "    FirstName VARCHAR(50),\n",
    "    LastName VARCHAR(50),\n",
    "    Salary DECIMAL(10,2)\n",
    ");\n",
    "2-Drop:used to delete database objects like tables, views, indexes, etc.\n",
    "Example:\n",
    "DROP TABLE Employees;\n",
    "3-Alter: Used to modify the structure of an existing database object, such as adding or dropping columns.\n",
    "Example:\n",
    "ALTER TABLE Employees\n",
    "ADD COLUMN Birthdate DATE;\n",
    "4-Truncate:Used to quickly delete all rows from a table without removing the table structure.\n",
    "Example:RUNCATE TABLE Employees;\n"
   ]
  },
  {
   "cell_type": "markdown",
   "id": "cda61520-2058-408f-b907-3f97014b4df6",
   "metadata": {},
   "source": [
    "Ans3-DML-is a data manupulation language and subset of sql.Used for manipulating data store in a database.\n",
    "1-insert-Used to add new rows of data into a table.\n",
    "Example:\n",
    "INSERT INTO Employees (EmployeeID, FirstName, LastName, Salary)\n",
    "VALUES (1, 'John', 'Doe', 50000);\n",
    "2-Update-Used to modify existing data in a table.\n",
    "Example:\n",
    "UPDATE Employees\n",
    "SET Salary = 55000\n",
    "WHERE EmployeeID = 1;\n",
    "3-Delete-Used to remove one or more rows from a table.\n",
    "Example:\n",
    "DELETE FROM Employees\n",
    "WHERE EmployeeID = 1;"
   ]
  },
  {
   "cell_type": "markdown",
   "id": "b1cc2e1c-0cb0-421e-8d1f-e2929020cdb3",
   "metadata": {},
   "source": [
    "Ans4-\n",
    "DQL-is a data query language and is a subset of sql,used for querying and retrieving data from a database.\n",
    "Select:Used to retrieve data from one or more tables in a database.\n",
    "Example:SELECT FirstName, LastName, Salary\n",
    "FROM Employees\n",
    "WHERE Salary > 50000;"
   ]
  },
  {
   "cell_type": "markdown",
   "id": "caf45436-08e8-494e-a0a5-ee61cff1ffa9",
   "metadata": {},
   "source": [
    "Ans5-\n",
    "1-Primary Key is a unique identifier for a records in a database table,ensuring each row can be uniquely identified and preventing duplicate entries.\n",
    "2-Foreign Key a foreign key is a field in a database table that refers to the primary key in another table, establishing a link between the two tables and enforcing referential integrity in relational databases."
   ]
  },
  {
   "cell_type": "markdown",
   "id": "1efd8e60-95f9-4121-a08f-c6a7aa9761d8",
   "metadata": {},
   "source": [
    "Ans6-pip install mysql-connector-python\n",
    "import mysql.connector\n",
    "\n",
    "Establishing a connection to MySQL\n",
    "conn = mysql.connector.connect(\n",
    "    host=\"your_host\",\n",
    "    user=\"your_user\",\n",
    "    password=\"your_password\",\n",
    "    database=\"your_database\"\n",
    ")\n",
    "\n",
    "Creating a cursor\n",
    "cursor = conn.cursor()\n",
    "\n",
    " Example SQL query\n",
    "query = \"SELECT * FROM your_table\"\n",
    "cursor.execute(query)\n",
    "\n",
    " Fetching and printing the results\n",
    "result = cursor.fetchall()\n",
    "for row in result:\n",
    "    print(row)\n",
    "\n",
    "Closing the cursor and connection\n",
    "cursor.close()\n",
    "conn.close()\n",
    "1-Cursor: A cursor is an object that allows Python to interact with the MySQL database. It is used to execute SQL queries and fetch results.\n",
    "-cursor.execute(query): Executes the SQL query specified in the query variable.\n",
    "\n",
    "-cursor.fetchall(): Fetches all the rows of the result set after executing the query.\n",
    "-cursor.close() and conn.close()-closing the cursor and connection"
   ]
  },
  {
   "cell_type": "markdown",
   "id": "25c30f6c-dfe9-4ce4-b5b3-72c83bc9062d",
   "metadata": {},
   "source": [
    "Ans7-\n",
    "The order of execution of SQL clauses in a SQL query generally follows this sequence:\n",
    "\n",
    "1-FROM: Specifies the table or tables from which data will be retrieved.\n",
    "\n",
    "2-WHERE: Filters the rows based on specified conditions.\n",
    "\n",
    "3-GROUP BY: Groups the result set by one or more columns.\n",
    "\n",
    "4-HAVING: Filters the grouped rows based on specified conditions.\n",
    "\n",
    "5-SELECT: Specifies the columns to be retrieved.\n",
    "\n",
    "6-DISTINCT: Removes duplicate rows from the result set.\n",
    "\n",
    "7-ORDER BY: Sorts the result set based on specified columns.\n",
    "\n",
    "LIMIT/OFFSET or FETCH FIRST: Limits the number of rows returned by the query."
   ]
  }
 ],
 "metadata": {
  "kernelspec": {
   "display_name": "Python 3 (ipykernel)",
   "language": "python",
   "name": "python3"
  },
  "language_info": {
   "codemirror_mode": {
    "name": "ipython",
    "version": 3
   },
   "file_extension": ".py",
   "mimetype": "text/x-python",
   "name": "python",
   "nbconvert_exporter": "python",
   "pygments_lexer": "ipython3",
   "version": "3.10.8"
  }
 },
 "nbformat": 4,
 "nbformat_minor": 5
}
